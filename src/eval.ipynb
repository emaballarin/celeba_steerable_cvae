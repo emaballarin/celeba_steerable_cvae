{
 "cells": [
  {
   "cell_type": "code",
   "id": "initial_id",
   "metadata": {
    "collapsed": true
   },
   "source": [
    "# Jupyter dirty hack\n",
    "import os\n",
    "import sys\n",
    "\n",
    "PATH = \"/home/emaballarin/repositories/celeba_sweeping_cvae/src/\"\n",
    "os.chdir(PATH)\n",
    "sys.path.append(PATH)"
   ],
   "outputs": [],
   "execution_count": null
  },
  {
   "metadata": {},
   "cell_type": "code",
   "source": [
    "from typing import Tuple\n",
    "import torch as th\n",
    "from models import CelebACVAE\n",
    "from safetensors.torch import load_model\n",
    "from torchvision.utils import make_grid\n",
    "import matplotlib.pyplot as plt"
   ],
   "id": "22c457b7068699d7",
   "outputs": [],
   "execution_count": null
  },
  {
   "metadata": {},
   "cell_type": "code",
   "source": [
    "DEVICE_AUTODETECT: bool = True\n",
    "IMG_SHAPE: Tuple[int, int, int] = (3, 64, 64)\n",
    "TEST_BS: int = 32\n",
    "LATENT_SIZE: int = 128\n",
    "CONDITION_SIZE: int = 14"
   ],
   "id": "3a62338e970e43a0",
   "outputs": [],
   "execution_count": null
  },
  {
   "metadata": {},
   "cell_type": "code",
   "source": "device = th.device(\"cuda\" if (th.cuda.is_available() and DEVICE_AUTODETECT) else \"cpu\")",
   "id": "f529c6e69a34bd8a",
   "outputs": [],
   "execution_count": null
  },
  {
   "metadata": {},
   "cell_type": "code",
   "source": [
    "model = CelebACVAE(lat_size=LATENT_SIZE, cond_size=CONDITION_SIZE).to(device)"
   ],
   "id": "eeba97c36ae809be",
   "outputs": [],
   "execution_count": null
  },
  {
   "metadata": {},
   "cell_type": "code",
   "source": "_ = load_model(model, \"./celeba_cvae_v9.safetensors\")",
   "id": "a0d0ee0a834d0c8f",
   "outputs": [],
   "execution_count": null
  },
  {
   "metadata": {},
   "cell_type": "code",
   "source": [
    "_ = model.to(device)\n",
    "_ = model.eval()"
   ],
   "id": "135b8c4317042afe",
   "outputs": [],
   "execution_count": null
  },
  {
   "metadata": {},
   "cell_type": "code",
   "source": [
    "condition = th.zeros(TEST_BS, CONDITION_SIZE).to(device)\n",
    "condition[:, 0] = 0.5\n",
    "condition[:, 5] = -2"
   ],
   "id": "a6fa635ae402952",
   "outputs": [],
   "execution_count": null
  },
  {
   "metadata": {},
   "cell_type": "code",
   "source": "...",
   "id": "b5965f18c5e691d3",
   "outputs": [],
   "execution_count": null
  },
  {
   "metadata": {},
   "cell_type": "code",
   "source": [
    "with th.no_grad():\n",
    "    img = model.sample_eval(z=None, c=condition.to(device))"
   ],
   "id": "eb26c668e72e8850",
   "outputs": [],
   "execution_count": null
  },
  {
   "metadata": {},
   "cell_type": "code",
   "source": [
    "for i in range(32):\n",
    "    plt.imshow(img[i].permute(1, 2, 0).cpu().detach().numpy())\n",
    "    plt.show()"
   ],
   "id": "e7c4b2f5db0f04f",
   "outputs": [],
   "execution_count": null
  },
  {
   "metadata": {},
   "cell_type": "code",
   "source": [
    "# plt.imshow(make_grid(img).permute(1, 2, 0).cpu().detach().numpy())"
   ],
   "id": "3490052e3eec6f16",
   "outputs": [],
   "execution_count": null
  },
  {
   "metadata": {},
   "cell_type": "code",
   "source": [
    "z = th.randn(1, LATENT_SIZE).to(device)\n",
    "c = th.zeros(1, CONDITION_SIZE).to(device)\n",
    "condition[:, 0] = 0.5\n",
    "condition[:, 5] = -2\n",
    "\n",
    "with th.no_grad():\n",
    "    img = model.sample_eval(z=z, c=c)\n",
    "plt.imshow(img[0].permute(1, 2, 0).cpu().detach().numpy())"
   ],
   "id": "8261cf55f2f9b476",
   "outputs": [],
   "execution_count": null
  },
  {
   "metadata": {},
   "cell_type": "code",
   "source": [
    "myz = z.detach()"
   ],
   "id": "af2a70d0b496fcfc",
   "outputs": [],
   "execution_count": null
  },
  {
   "metadata": {},
   "cell_type": "code",
   "source": [
    "c = th.zeros(1, CONDITION_SIZE).to(device)\n",
    "for i in range(10):\n",
    "    c[0, 3] = 4 * i / 20 - 2\n",
    "    c[0, 4] = 4 * (10 - i) / 10 - 2\n",
    "    with th.no_grad():\n",
    "        img = model.sample_eval(z=myz, c=c)\n",
    "    plt.imshow(img[0].permute(1, 2, 0).cpu().detach().numpy())\n",
    "    plt.show()"
   ],
   "id": "a334be570850c10b",
   "outputs": [],
   "execution_count": null
  }
 ],
 "metadata": {
  "kernelspec": {
   "display_name": "Python 3",
   "language": "python",
   "name": "python3"
  },
  "language_info": {
   "codemirror_mode": {
    "name": "ipython",
    "version": 2
   },
   "file_extension": ".py",
   "mimetype": "text/x-python",
   "name": "python",
   "nbconvert_exporter": "python",
   "pygments_lexer": "ipython2",
   "version": "2.7.6"
  }
 },
 "nbformat": 4,
 "nbformat_minor": 5
}
