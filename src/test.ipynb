{
 "cells": [
  {
   "cell_type": "code",
   "id": "initial_id",
   "metadata": {
    "collapsed": true
   },
   "source": [
    "# Jupyter dirty hack\n",
    "import os\n",
    "import sys\n",
    "\n",
    "PATH = \"/home/emaballarin/repositories/celeba_sweeping_cvae/src/\"\n",
    "os.chdir(PATH)\n",
    "sys.path.append(PATH)"
   ],
   "outputs": [],
   "execution_count": null
  },
  {
   "metadata": {},
   "cell_type": "code",
   "source": "from typing import Tuple",
   "id": "b5869a84740306d2",
   "outputs": [],
   "execution_count": null
  },
  {
   "metadata": {},
   "cell_type": "code",
   "source": [
    "from tqdm.auto import tqdm, trange\n",
    "import torch as th\n",
    "from torchvision.datasets import CelebA\n",
    "from torch.utils.data import DataLoader\n",
    "from torchvision.transforms import Compose, Resize, ToTensor\n",
    "import matplotlib.pyplot as plt"
   ],
   "id": "c4ab4c730b0dd5f0",
   "outputs": [],
   "execution_count": null
  },
  {
   "metadata": {},
   "cell_type": "code",
   "source": [
    "from models import CelebACVAE\n",
    "from losses import beta_reco_bce"
   ],
   "id": "7378ebad9ec1fa01",
   "outputs": [],
   "execution_count": null
  },
  {
   "metadata": {},
   "cell_type": "code",
   "source": [
    "DEVICE_AUTODETECT: bool = True\n",
    "IMG_SHAPE: Tuple[int, int, int] = (3, 64, 64)\n",
    "TRAIN_BS: int = 64\n",
    "TEST_BS: int = 32\n",
    "LATENT_SIZE: int = 128\n",
    "CONDITION_SIZE: int = 40\n",
    "EPOCHS: int = 200\n",
    "BASE_LR = 1e-3"
   ],
   "id": "dd9a954c73acedd0",
   "outputs": [],
   "execution_count": null
  },
  {
   "metadata": {},
   "cell_type": "code",
   "source": "device = th.device(\"cuda\" if (th.cuda.is_available() and DEVICE_AUTODETECT) else \"cpu\")",
   "id": "69bfee0929bc822e",
   "outputs": [],
   "execution_count": null
  },
  {
   "metadata": {},
   "cell_type": "code",
   "source": [
    "train_ds = CelebA(\n",
    "    root=PATH + \"/../data/celeba\",\n",
    "    split=\"train\",\n",
    "    target_type=\"attr\",\n",
    "    transform=Compose([Resize(IMG_SHAPE[1:]), ToTensor()]),\n",
    "    download=True,\n",
    ")\n",
    "\n",
    "test_ds = CelebA(\n",
    "    root=PATH + \"/../data/celeba\",\n",
    "    split=\"test\",\n",
    "    target_type=\"attr\",\n",
    "    transform=Compose([Resize(IMG_SHAPE[1:]), ToTensor()]),\n",
    "    download=True,\n",
    ")\n",
    "\n",
    "train_dl = DataLoader(\n",
    "    train_ds,\n",
    "    batch_size=TRAIN_BS,\n",
    "    shuffle=True,\n",
    "    num_workers=16,\n",
    "    pin_memory=(device == th.device(\"cuda\")),\n",
    ")\n",
    "test_dl = DataLoader(\n",
    "    test_ds,\n",
    "    batch_size=TEST_BS,\n",
    "    shuffle=True,\n",
    "    num_workers=4,\n",
    "    pin_memory=(device == th.device(\"cuda\")),\n",
    ")"
   ],
   "id": "9c8872d0bd1a1d14",
   "outputs": [],
   "execution_count": null
  },
  {
   "metadata": {},
   "cell_type": "code",
   "source": "model = CelebACVAE(lat_size=LATENT_SIZE, cond_size=CONDITION_SIZE).to(device)",
   "id": "77c323bd5994be1e",
   "outputs": [],
   "execution_count": null
  },
  {
   "metadata": {},
   "cell_type": "code",
   "source": [
    "optimizer = th.optim.RAdam(model.parameters(), lr=BASE_LR)\n",
    "scheduler = th.optim.lr_scheduler.OneCycleLR(\n",
    "    optimizer,\n",
    "    max_lr=BASE_LR,\n",
    "    total_steps=EPOCHS,\n",
    "    pct_start=0.75,\n",
    "    anneal_strategy=\"linear\",\n",
    "    cycle_momentum=False,\n",
    "    base_momentum=0,\n",
    "    max_momentum=0,\n",
    "    div_factor=1,\n",
    ")"
   ],
   "id": "b637456983cac1be",
   "outputs": [],
   "execution_count": null
  },
  {
   "metadata": {},
   "cell_type": "code",
   "source": [
    "model.train()\n",
    "for epoch in trange(EPOCHS):\n",
    "    beta: float = (0.5 * (epoch / (EPOCHS // 3))) if epoch < (EPOCHS // 3) else 0.5\n",
    "    for i, (images, attr) in tqdm(enumerate(train_dl), total=len(train_dl)):\n",
    "        images: th.Tensor = images.to(device)\n",
    "        attr: th.Tensor = attr.to(device)\n",
    "        optimizer.zero_grad()\n",
    "        reconstructed_image, mean, log_var = model(images, attr)\n",
    "        loss = beta_reco_bce(reconstructed_image, images, mean, log_var, beta)\n",
    "        loss.backward()\n",
    "        optimizer.step()\n",
    "    scheduler.step()"
   ],
   "id": "c406d84c1cb7853c",
   "outputs": [],
   "execution_count": null
  },
  {
   "metadata": {},
   "cell_type": "code",
   "source": "from torchinfo import summary",
   "id": "30e50e80c295072e",
   "outputs": [],
   "execution_count": null
  },
  {
   "metadata": {},
   "cell_type": "code",
   "source": [
    "summary(\n",
    "    model,\n",
    "    input_size=[(TRAIN_BS, *IMG_SHAPE), (TRAIN_BS, CONDITION_SIZE)],\n",
    "    device=device,\n",
    "    mode=\"train\",\n",
    ")"
   ],
   "id": "67cd68dc57110e40",
   "outputs": [],
   "execution_count": null
  }
 ],
 "metadata": {
  "kernelspec": {
   "display_name": "Python 3",
   "language": "python",
   "name": "python3"
  },
  "language_info": {
   "codemirror_mode": {
    "name": "ipython",
    "version": 2
   },
   "file_extension": ".py",
   "mimetype": "text/x-python",
   "name": "python",
   "nbconvert_exporter": "python",
   "pygments_lexer": "ipython2",
   "version": "2.7.6"
  }
 },
 "nbformat": 4,
 "nbformat_minor": 5
}
